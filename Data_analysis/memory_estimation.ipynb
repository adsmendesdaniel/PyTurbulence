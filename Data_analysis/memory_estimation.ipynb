{
 "cells": [
  {
   "cell_type": "markdown",
   "id": "5a42493f",
   "metadata": {},
   "source": [
    "# Import and/or install libraries: "
   ]
  },
  {
   "cell_type": "code",
   "execution_count": null,
   "id": "126ecc63",
   "metadata": {},
   "outputs": [],
   "source": [
    "Sdumont login node:\n",
    "\n",
    "2^1 (error)\n",
    "[0] Tesla V100-PCIE-32GB | 36°C,   0 % |   431 / 32768 MB | python/3286406(428M)\n",
    "[1] Tesla V100-PCIE-32GB | 29°C,   0 % |   431 / 32768 MB | python/3286407(428M)\n",
    "[2] Tesla V100-PCIE-32GB | 28°C,   0 % |   431 / 32768 MB | python/3286408(428M)\n",
    "[3] Tesla V100-PCIE-32GB | 27°C,   0 % |   431 / 32768 MB | python/3286409(428M)\n",
    "\n",
    "2^2\n",
    "[0] Tesla V100-PCIE-32GB | 36°C,   0 % |   437 / 32768 MB | python/3287535(434M)\n",
    "[1] Tesla V100-PCIE-32GB | 30°C,   1 % |   437 / 32768 MB | python/3287536(434M)\n",
    "[2] Tesla V100-PCIE-32GB | 29°C,   0 % |   437 / 32768 MB | python/3287537(434M)\n",
    "[3] Tesla V100-PCIE-32GB | 28°C,   0 % |   437 / 32768 MB | python/3287538(434M)\n",
    "\n",
    "2^3\n",
    "[0] Tesla V100-PCIE-32GB | 36°C,   0 % |   437 / 32768 MB | python/3287535(434M)\n",
    "[1] Tesla V100-PCIE-32GB | 30°C,   1 % |   437 / 32768 MB | python/3287536(434M)\n",
    "[2] Tesla V100-PCIE-32GB | 29°C,   0 % |   437 / 32768 MB | python/3287537(434M)\n",
    "[3] Tesla V100-PCIE-32GB | 28°C,   0 % |   437 / 32768 MB | python/3287538(434M)\n",
    "\n",
    "2^4\n",
    "[0] Tesla V100-PCIE-32GB | 37°C,   1 % |   437 / 32768 MB | python/3289814(434M)\n",
    "[1] Tesla V100-PCIE-32GB | 32°C,   0 % |   437 / 32768 MB | python/3289815(434M)\n",
    "[2] Tesla V100-PCIE-32GB | 30°C,   0 % |   437 / 32768 MB | python/3289816(434M)\n",
    "[3] Tesla V100-PCIE-32GB | 29°C,   0 % |   437 / 32768 MB | python/3289817(434M)\n",
    "\n",
    "2^5\n",
    "[0] Tesla V100-PCIE-32GB | 37°C,   8 % |   439 / 32768 MB | python/3291007(436M)\n",
    "[1] Tesla V100-PCIE-32GB | 31°C,   0 % |   439 / 32768 MB | python/3291008(436M)\n",
    "[2] Tesla V100-PCIE-32GB | 30°C,   0 % |   439 / 32768 MB | python/3291009(436M)\n",
    "[3] Tesla V100-PCIE-32GB | 29°C,   0 % |   439 / 32768 MB | python/3291010(436M)\n",
    "\n",
    "2^6\n",
    "[0] Tesla V100-PCIE-32GB | 37°C,   4 % |   461 / 32768 MB | python/3291932(458M)\n",
    "[1] Tesla V100-PCIE-32GB | 31°C,   7 % |   461 / 32768 MB | python/3291933(458M)\n",
    "[2] Tesla V100-PCIE-32GB | 30°C,   0 % |   461 / 32768 MB | python/3291934(458M)\n",
    "[3] Tesla V100-PCIE-32GB | 29°C,   0 % |   461 / 32768 MB | python/3291935(458M)\n",
    "\n",
    "2^7\n",
    "[0] Tesla V100-PCIE-32GB | 37°C,  26 % |   629 / 32768 MB | python/3293349(626M)\n",
    "[1] Tesla V100-PCIE-32GB | 31°C,  12 % |   629 / 32768 MB | python/3293350(626M)\n",
    "[2] Tesla V100-PCIE-32GB | 30°C,   0 % |   629 / 32768 MB | python/3293351(626M)\n",
    "[3] Tesla V100-PCIE-32GB | 29°C,   0 % |   629 / 32768 MB | python/3293352(626M)\n",
    "\n",
    "2^8\n",
    "[0] Tesla V100-PCIE-32GB | 38°C,  47 % |  1777 / 32768 MB | python/3295679(1774M)\n",
    "[1] Tesla V100-PCIE-32GB | 32°C,   0 % |  1777 / 32768 MB | python/3295680(1774M)\n",
    "[2] Tesla V100-PCIE-32GB | 30°C,   0 % |  1777 / 32768 MB | python/3295681(1774M)\n",
    "[3] Tesla V100-PCIE-32GB | 30°C,   0 % |  1777 / 32768 MB | python/3295682(1774M)\n",
    "\n",
    "2^9\n",
    "[0] Tesla V100-PCIE-32GB | 37°C,  60 % | 10973 / 32768 MB | python/3296980(10970M)\n",
    "[1] Tesla V100-PCIE-32GB | 31°C,   0 % | 10973 / 32768 MB | python/3296981(10970M)\n",
    "[2] Tesla V100-PCIE-32GB | 30°C,   0 % | 10973 / 32768 MB | python/3296982(10970M)\n",
    "[3] Tesla V100-PCIE-32GB | 29°C,   0 % | 10973 / 32768 MB | python/3296983(10970M)"
   ]
  },
  {
   "cell_type": "code",
   "execution_count": 6,
   "id": "8ba3180d",
   "metadata": {},
   "outputs": [
    {
     "name": "stdout",
     "output_type": "stream",
     "text": [
      "/bin/bash: line 1: htop: command not found\n"
     ]
    }
   ],
   "source": [
    "Kaggle:\n",
    "\n",
    "2¹\n",
    "[0] Tesla T4 | 38°C,   2 % |   188 / 15360 MB |\n",
    "[1] Tesla T4 | 46°C,   4 % |   188 / 15360 MB |\n",
    "\n",
    "2²\n",
    "[0] Tesla T4 | 42°C,   2 % |   188 / 15360 MB |\n",
    "[1] Tesla T4 | 50°C,   0 % |   188 / 15360 MB |\n",
    "\n",
    "2³\n",
    "[0] Tesla T4 | 42°C,   3 % |   188 / 15360 MB |\n",
    "[1] Tesla T4 | 51°C,   7 % |   188 / 15360 MB |\n",
    "\n",
    "2⁴\n",
    "0] Tesla T4 | 41°C,   2 % |   188 / 15360 MB |\n",
    "[1] Tesla T4 | 51°C,   8 % |   188 / 15360 MB |\n",
    "\n",
    "2⁵\n",
    "[0] Tesla T4 | 41°C,   4 % |   192 / 15360 MB |\n",
    "[1] Tesla T4 | 51°C,   2 % |   192 / 15360 MB |\n",
    "\n",
    "2⁶\n",
    "[0] Tesla T4 | 41°C,  10 % |   248 / 15360 MB |\n",
    "[1] Tesla T4 | 52°C,   0 % |   248 / 15360 MB |\n",
    "\n",
    "2⁷\n",
    "[0] Tesla T4 | 42°C,  36 % |   564 / 15360 MB |\n",
    "[1] Tesla T4 | 54°C,  31 % |   564 / 15360 MB |\n",
    "\n",
    "2⁸\n",
    "[0] Tesla T4 | 44°C,  46 % |  2972 / 15360 MB |\n",
    "[1] Tesla T4 | 56°C,  63 % |  2972 / 15360 MB |\n"
   ]
  }
 ],
 "metadata": {
  "kernelspec": {
   "display_name": "Python 3 (ipykernel)",
   "language": "python",
   "name": "python3"
  }
 },
 "nbformat": 4,
 "nbformat_minor": 5
}
