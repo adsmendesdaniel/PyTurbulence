{
 "cells": [
  {
   "cell_type": "markdown",
   "id": "5a42493f",
   "metadata": {},
   "source": [
    "# Import and/or install libraries: "
   ]
  },
  {
   "cell_type": "code",
   "execution_count": null,
   "id": "126ecc63",
   "metadata": {},
   "outputs": [],
   "source": []
  },
  {
   "cell_type": "code",
   "execution_count": 6,
   "id": "8ba3180d",
   "metadata": {},
   "outputs": [
    {
     "name": "stdout",
     "output_type": "stream",
     "text": [
      "/bin/bash: line 1: htop: command not found\n"
     ]
    }
   ],
   "source": [
    "Kaggle:\n",
    "\n",
    "2¹\n",
    "[0] Tesla T4 | 38°C,   2 % |   188 / 15360 MB |\n",
    "[1] Tesla T4 | 46°C,   4 % |   188 / 15360 MB |\n",
    "\n",
    "2²\n",
    "[0] Tesla T4 | 42°C,   2 % |   188 / 15360 MB |\n",
    "[1] Tesla T4 | 50°C,   0 % |   188 / 15360 MB |\n",
    "\n",
    "2³\n",
    "[0] Tesla T4 | 42°C,   3 % |   188 / 15360 MB |\n",
    "[1] Tesla T4 | 51°C,   7 % |   188 / 15360 MB |\n",
    "\n",
    "2⁴\n",
    "0] Tesla T4 | 41°C,   2 % |   188 / 15360 MB |\n",
    "[1] Tesla T4 | 51°C,   8 % |   188 / 15360 MB |\n",
    "\n",
    "2⁵\n",
    "[0] Tesla T4 | 41°C,   4 % |   192 / 15360 MB |\n",
    "[1] Tesla T4 | 51°C,   2 % |   192 / 15360 MB |\n",
    "\n",
    "2⁶\n",
    "[0] Tesla T4 | 41°C,  10 % |   248 / 15360 MB |\n",
    "[1] Tesla T4 | 52°C,   0 % |   248 / 15360 MB |\n",
    "\n",
    "2⁷\n",
    "[0] Tesla T4 | 42°C,  36 % |   564 / 15360 MB |\n",
    "[1] Tesla T4 | 54°C,  31 % |   564 / 15360 MB |\n",
    "\n",
    "2⁸\n",
    "[0] Tesla T4 | 44°C,  46 % |  2972 / 15360 MB |\n",
    "[1] Tesla T4 | 56°C,  63 % |  2972 / 15360 MB |"
   ]
  }
 ],
 "metadata": {
  "kernelspec": {
   "display_name": "Python 3 (ipykernel)",
   "language": "python",
   "name": "python3"
  }
 },
 "nbformat": 4,
 "nbformat_minor": 5
}
