{
  "nbformat": 4,
  "nbformat_minor": 0,
  "metadata": {
    "colab": {
      "provenance": []
    },
    "kernelspec": {
      "name": "python3",
      "display_name": "Python 3"
    },
    "language_info": {
      "name": "python"
    }
  },
  "cells": [
    {
      "cell_type": "markdown",
      "source": [
        "# **Clone the repository:**"
      ],
      "metadata": {
        "id": "aCCTszzCRa6z"
      }
    },
    {
      "cell_type": "markdown",
      "source": [
        "If already public:"
      ],
      "metadata": {
        "id": "nm1EU573Wx8B"
      }
    },
    {
      "cell_type": "code",
      "source": [
        "!git clone https://github.com/adsmendesdaniel/PyTurbulence.git"
      ],
      "metadata": {
        "id": "c3-6t4xiWxFl"
      },
      "execution_count": null,
      "outputs": []
    },
    {
      "cell_type": "markdown",
      "source": [
        "If not, generate a token number on Github (Settings -> Developer settings -> Personal access tokens -> Tokens (Classic), and substitute its code on the line below:"
      ],
      "metadata": {
        "id": "CkiwRH9KWn5w"
      }
    },
    {
      "cell_type": "code",
      "execution_count": 8,
      "metadata": {
        "colab": {
          "base_uri": "https://localhost:8080/"
        },
        "id": "Z6JbqpF6RLrJ",
        "outputId": "5649351a-1244-481b-fb43-ea82bae5daca"
      },
      "outputs": [
        {
          "output_type": "stream",
          "name": "stdout",
          "text": [
            "Cloning into 'PyTurbulence'...\n",
            "remote: Enumerating objects: 7, done.\u001b[K\n",
            "remote: Counting objects: 100% (7/7), done.\u001b[K\n",
            "remote: Compressing objects: 100% (7/7), done.\u001b[K\n",
            "remote: Total 7 (delta 1), reused 0 (delta 0), pack-reused 0\u001b[K\n",
            "Receiving objects: 100% (7/7), 13.81 KiB | 2.30 MiB/s, done.\n",
            "Resolving deltas: 100% (1/1), done.\n"
          ]
        }
      ],
      "source": [
        "!git clone https://YOUR_TOKEN_HERE@github.com/adsmendesdaniel/PyTurbulence.git"
      ]
    },
    {
      "cell_type": "code",
      "source": [
        "!git clone https://@github.com/adsmendesdaniel/PyTurbulence.git"
      ],
      "metadata": {
        "colab": {
          "base_uri": "https://localhost:8080/"
        },
        "id": "LLHOySNxXUTO",
        "outputId": "a311cbc6-41b2-4ae9-988d-9a37170650b0"
      },
      "execution_count": 1,
      "outputs": [
        {
          "output_type": "stream",
          "name": "stdout",
          "text": [
            "Cloning into 'PyTurbulence'...\n",
            "remote: Enumerating objects: 22, done.\u001b[K\n",
            "remote: Counting objects: 100% (22/22), done.\u001b[K\n",
            "remote: Compressing objects: 100% (18/18), done.\u001b[K\n",
            "remote: Total 22 (delta 7), reused 0 (delta 0), pack-reused 0\u001b[K\n",
            "Receiving objects: 100% (22/22), 17.44 KiB | 17.44 MiB/s, done.\n",
            "Resolving deltas: 100% (7/7), done.\n"
          ]
        }
      ]
    },
    {
      "cell_type": "markdown",
      "source": [
        "# **Install and/or import libraries:**"
      ],
      "metadata": {
        "id": "mRuJpx__YptK"
      }
    },
    {
      "cell_type": "code",
      "source": [
        "#import gc\n",
        "\n",
        "#import numpy as np\n",
        "#import time as time\n",
        "#import pickle as pkl\n",
        "#import scipy.interpolate\n",
        "\n",
        "#import matplotlib.pyplot as plt\n",
        "#from matplotlib.colors import Normalize\n",
        "#from matplotlib.cm import ScalarMappable\n"
      ],
      "metadata": {
        "colab": {
          "base_uri": "https://localhost:8080/"
        },
        "id": "KcH3lCe4XJWa",
        "outputId": "588a234b-4702-4a7b-aace-c969e17193ee"
      },
      "execution_count": 16,
      "outputs": [
        {
          "output_type": "stream",
          "name": "stdout",
          "text": [
            "bash: cannot set terminal process group (155): Inappropriate ioctl for device\n",
            "bash: no job control in this shell\n",
            "\u001b[?2004h\u001b[01;34m/content\u001b[00m# !rm -rf PyTurbulence\n",
            "bash: !rm: event not found\n",
            "\u001b[?2004h\u001b[01;34m/content\u001b[00m# rm -rf PyTurbulence\n",
            "\u001b[?2004h\u001b[?2004l\n",
            "\u001b[?2004h\u001b[?2004l\n",
            "\u001b[?2004h\u001b[?2004l\n",
            "\u001b[?2004h\u001b[01;34m/content\u001b[00m# ^C\n"
          ]
        }
      ]
    },
    {
      "cell_type": "markdown",
      "source": [
        "# **Simulation:**"
      ],
      "metadata": {
        "id": "2er8tjP4fR5Z"
      }
    },
    {
      "cell_type": "markdown",
      "source": [
        "## Functions:"
      ],
      "metadata": {
        "id": "HejBhwE0sJCA"
      }
    },
    {
      "cell_type": "code",
      "source": [],
      "metadata": {
        "id": "6a7wp6m4fTsY"
      },
      "execution_count": null,
      "outputs": []
    },
    {
      "cell_type": "markdown",
      "source": [
        "## Plot function:"
      ],
      "metadata": {
        "id": "2jKObDKakEXg"
      }
    },
    {
      "cell_type": "code",
      "source": [
        "import seaborn as sns\n",
        "sns.set(style='dark')\n",
        "\n",
        "def plot(P, u, v, U, curl, t, T, step, Nstep):\n",
        "    '''\n",
        "    # Adjust subplot layout\n",
        "    fig.subplots_adjust(\n",
        "        left=0.05,  # Left margin\n",
        "        right=0.95,  # Right margin\n",
        "        top=0.9,  # Top margin\n",
        "        bottom=0.1,  # Bottom margin\n",
        "        wspace=0.3,  # Space between subplots (width)\n",
        "        hspace=0.  # Space between subplots (height)\n",
        "    )\n",
        "    '''\n",
        "    # Colormap for plots\n",
        "    cmap = plt.cm.jet  # Colormap to use\n",
        "\n",
        "    # List of datasets and titles\n",
        "    data_list = [U, curl] #[P, np.linalg.norm(U, axis=0, keepdims=True)[0], np.linalg.norm(curl, axis=0, keepdims=True)[0]]\n",
        "    titles = ['Velocity', 'Vorticity'] #['Pressão', 'Velocidade', 'Vorticidade']\n",
        "\n",
        "    # Create a 1xN grid of plots\n",
        "    fig, axs = plt.subplots(1, len(titles), figsize=(15, 7), dpi=200, num=1, clear=True)\n",
        "    fig.suptitle(r'$\\mathbf{Physical\\ Time:}$ ' + f'{t:.2f}/{T}  |  ' + r'$\\mathbf{Iteration:}$ ' + f'{step}/{Nstep}', fontsize=16)\n",
        "\n",
        "    # Iterate over subplots to plot data with individual colorbars\n",
        "    for ax, data, titulo in zip(axs, data_list, titles):\n",
        "\n",
        "        # Normalization for the colorbar\n",
        "        vmin = data.min()\n",
        "        vmax = data.max()\n",
        "        norm = Normalize(vmin=vmin, vmax=vmax)\n",
        "\n",
        "        ax.imshow(data, extent=[0, Lx, 0, Ly],\n",
        "                  cmap=cmap, norm=norm, aspect='equal', interpolation='bilinear')\n",
        "\n",
        "        ax.set_title(titulo, fontweight='bold', fontstyle='italic')\n",
        "        ax.set_xlabel(\"X\", fontweight='bold')\n",
        "        ax.set_ylabel(\"Y\", fontweight='bold')\n",
        "\n",
        "        # Create a ScalarMappable for the colorbar for this subplot\n",
        "        mappable = ScalarMappable(norm=norm, cmap=cmap)\n",
        "        mappable.set_array(data)\n",
        "\n",
        "        # Add the individual colorbar to this subplot\n",
        "        #fig.colorbar(mappable, ax=ax, orientation='vertical', shrink=0.6, pad=0.15, label=\"Norma da vorticidade\")\n",
        "\n",
        "    # Save the figure\n",
        "    nome_tmp = 'plot_'+str(step)+'.png'\n",
        "    lista_enderecos.append(nome_tmp)\n",
        "    plt.savefig('/content/'+nome_tmp)\n",
        "    plt.close(fig)\n",
        "    #gc.collect()\n",
        "    #plt.show()\n",
        "\n",
        "#List to save plots:\n",
        "lista_enderecos = []\n"
      ],
      "metadata": {
        "id": "kR_Q3ZqdfzGM"
      },
      "execution_count": 2,
      "outputs": []
    },
    {
      "cell_type": "code",
      "source": [
        "#from time import time\n",
        "\n",
        "#from matplotlib.colors import Normalize\n",
        "#from matplotlib.cm import ScalarMappable\n",
        "#import noise\n",
        "\n",
        "#from numpy.random import seed, uniform\n",
        "#from numpy import max as npmax\n",
        "#import matplotlib.animation as animation\n",
        "#from basic_units import radians, degrees, cos\n",
        "#from radians_plot import *\n",
        "\n",
        "# parent = os.path.abspath(os.path.join(os.path.dirname(__file__), '.'))\n",
        "# sys.path.append(parent)\n"
      ],
      "metadata": {
        "id": "Icp5r3y7gPU0"
      },
      "execution_count": null,
      "outputs": []
    },
    {
      "cell_type": "code",
      "source": [],
      "metadata": {
        "id": "8VIRqnIgmV2o"
      },
      "execution_count": 47,
      "outputs": []
    },
    {
      "cell_type": "markdown",
      "source": [
        "## Main Loop:"
      ],
      "metadata": {
        "id": "wta2xavrtxox"
      }
    },
    {
      "cell_type": "code",
      "source": [
        "try:\n",
        "    from mpi4py import MPI\n",
        "except ImportError:\n",
        "    !pip install mpi4py\n",
        "    from mpi4py import MPI\n",
        "\n",
        "%run PyTurbulence/Spectral_DNS/initial_conditions.py #Import initial_conditions is not working on colab\n",
        "\n",
        "import time\n",
        "import numpy as np\n",
        "import matplotlib.pyplot as plt\n",
        "\n",
        "from tqdm import tqdm\n",
        "from numpy.fft import fftfreq, fft, ifft, fft2, ifft2, fftshift, ifftshift\n",
        "\n",
        "#from PyTurbulence.Spectral_DNS.initial_conditions import IC_2D\n",
        "\n",
        "#Initialize x, y kx, ky coordinate\n",
        "def IC_coor(Nx, Ny, Np, dx, dy, rank, num_processes):\n",
        "\n",
        "    x = np.zeros((Np, Ny), dtype=float);\n",
        "    y = np.zeros((Np, Ny), dtype=float);\n",
        "    kx = np.zeros((Nx, Np), dtype=float);\n",
        "    ky = np.zeros((Nx, Np), dtype=float);\n",
        "\n",
        "    for j in range(Ny):\n",
        "        x[0:Np, j] = range(Np);\n",
        "        if num_processes == 1:\n",
        "            x[0:Nx, j] = range(int(-Nx / 2), int(Nx / 2));\n",
        "\n",
        "    # offset for mpi\n",
        "    if num_processes != 1:\n",
        "        x = x - (num_processes / 2 - rank) * Np\n",
        "\n",
        "    x = x * dx;\n",
        "\n",
        "    for i in range(Np):\n",
        "        y[i, 0:Ny] = range(int(-Ny / 2), int(Ny / 2));\n",
        "\n",
        "    y = y * dy;\n",
        "\n",
        "    for j in range(Np):\n",
        "        kx[0:Nx, j] = range(int(-Nx / 2), int(Nx / 2));\n",
        "\n",
        "    for i in range(Nx):\n",
        "        ky[i, 0:Np] = range(Np);\n",
        "\n",
        "        if num_processes == 1:\n",
        "            ky[i, 0:Ny] = range(int(-Ny / 2), int(Ny / 2));\n",
        "\n",
        "    # offset for mpi\n",
        "    if num_processes != 1:\n",
        "        ky = ky - (num_processes / 2 - rank) * Np\n",
        "\n",
        "    k2 = kx ** 2 + ky ** 2;\n",
        "\n",
        "    for i in range(Nx):\n",
        "        for j in range(Np):\n",
        "            if (k2[i, j] == 0):\n",
        "                k2[i, j] = 1e-5;  # so that I do not divide by 0 below when using\n",
        "            # projection operator\n",
        "\n",
        "    # k2_exp = exp(-nu * (k2 ** 5) * dt - nu_hypo * dt);\n",
        "    k2_inv = K2_inv = 1/np.where(k2 == 0, 1, k2).astype(float)\n",
        "\n",
        "    return x, y, kx, ky, k2, k2_inv\n",
        "\n",
        "def fftn_mpi(u, fu):\n",
        "    Uc_hatT[:] = fftshift(fft(ifftshift(u), axis=1))\n",
        "    U_mpi[:] = rollaxis(Uc_hatT.reshape(Np, num_processes, Np), 1)\n",
        "    comm.Alltoall([U_mpi, MPI.DOUBLE_COMPLEX], [fu, MPI.DOUBLE_COMPLEX])\n",
        "    fu[:] = fftshift(fft(ifftshift(fu), axis=0))\n",
        "    return fu\n",
        "\n",
        "def ifftn_mpi(fu, u):\n",
        "    Uc_hat[:] = ifftshift(ifft(fftshift(fu), axis=0))\n",
        "    comm.Alltoall([Uc_hat, MPI.DOUBLE_COMPLEX], [U_mpi, MPI.DOUBLE_COMPLEX])\n",
        "    Uc_hatT[:] = rollaxis(U_mpi, 1).reshape(Uc_hatT.shape)\n",
        "    u[:] = ifftshift(ifft(fftshift(Uc_hatT), axis=1))\n",
        "    return u\n",
        "\n",
        "# SIMULATION PARAMETERS:\n",
        "viscosity = 1/16000      # Viscosity = 1/Reynolds. Suggestion: Reynolds -> 1600 or 16000\n",
        "t_f = 300                # Final physical time\n",
        "dt = 0.005               # Time step. Suggestion: 0.01 or 0.001\n",
        "N = Nx = Ny = 2**9       # Grid dimension\n",
        "IC_type = 'taylor_green' # Initial conditions. Check initial_conditions.py\n",
        "\n",
        "# MPI SETUP:\n",
        "comm = MPI.COMM_WORLD\n",
        "num_processes = comm.Get_size()\n",
        "rank = comm.Get_rank()\n",
        "Np = int(N/num_processes) #Slab decomposition\n",
        "print('num_processes', num_processes, 'rank', rank)\n",
        "\n",
        "n_steps = int(np.ceil(t_f/dt)) #Number of frames in the simulatino\n",
        "\n",
        "# Spatial domain parameters\n",
        "Lx = 2*np.pi;\n",
        "Ly = 2*np.pi;\n",
        "dx = Lx/Nx;\n",
        "dy = Ly/Ny;\n",
        "\n",
        "\n",
        "\n",
        "#Coordinates and wave numbers\n",
        "x, y, Kx, Ky, K2, K2_inv = IC_coor(Nx, Ny, Np, dx, dy, rank, num_processes) # TODO check what needs to be done with the wave numbers to get rid of IC_Coor function\n",
        "sx = slice(rank*Np,(rank+1)*Np)\n",
        "Xmesh = np.mgrid[sx, :N].astype(float) * Lx / N\n",
        "X = Xmesh[0]\n",
        "Y = Xmesh[1]\n",
        "\n",
        "\n",
        "\n",
        "#Uc_hat = empty((N, Np), dtype=complex)\n",
        "Uc_hatT = np.empty((Np, N), dtype=complex)\n",
        "U_mpi = np.empty((num_processes, Np, Np), dtype=complex)\n",
        "\n",
        "\n",
        "\n",
        "x = Y[0] #Is this really being used?\n",
        "y = Y[0] #Is this really being used?\n",
        "kx = fftfreq(N, 1./N)\n",
        "ky = kx.copy()\n",
        "''' I dont know why this exists...\n",
        "K = array(meshgrid(kx, ky[sx], indexing='ij'), dtype=int)\n",
        "Kx = K[1]\n",
        "Ky = K[0]\n",
        "K2 = sum(K * K, 0, dtype=int)\n",
        "'''\n",
        "LapHat = K2.copy()\n",
        "LapHat *= -1\n",
        "#K2[0][0] = 1\n",
        "K2 *=-1\n",
        "K2_inv = 1 / np.where(K2 == 0, 1, K2).astype(float)\n",
        "ikx_over_K2 = 1j * Kx * K2_inv\n",
        "iky_over_K2 = 1j * Ky * K2_inv\n",
        "\n",
        "\n",
        "\n",
        "# Define dealias:\n",
        "kmax_dealias = 2./3.*(N/2 + 1)\n",
        "dealias = np.array((abs(Kx) < kmax_dealias)*(abs(Ky) < kmax_dealias), dtype=bool)\n",
        "\n",
        "\n",
        "\n",
        "# Preallocate arrays\n",
        "u_hat = np.zeros((Nx, Np), dtype=complex)\n",
        "v_hat = np.zeros((Nx, Np), dtype=complex)\n",
        "u = np.zeros((Np, Ny), dtype=float)\n",
        "v = np.zeros((Np, Ny), dtype=float)\n",
        "#omega_hat0 = np.zeros((Nx, Np), dtype=complex)\n",
        "#omega_hat1 = np.zeros((Nx, Np), dtype=complex)\n",
        "omega_hat = np.zeros((Nx, Np), dtype=complex)\n",
        "#omega_hat_new = np.zeros((Nx, Np), dtype=complex)\n",
        "omega = np.zeros((Np, Ny), dtype=float)\n",
        "#omega_kx = np.zeros((Np, Ny), dtype=float)\n",
        "#omega_ky = np.zeros((Np, Ny), dtype=float)\n",
        "#v_grad_omega = np.zeros((Np, Ny), dtype=float)\n",
        "#psi_hat = np.zeros((Nx, Np), dtype=complex)\n",
        "#rhs_hat = np.zeros((Nx, Np), dtype=complex)\n",
        "#rhs = np.zeros((Np, Nx), dtype=float)\n",
        "#visc_term_complex = np.zeros((Ny, Np), dtype=complex)\n",
        "#visc_term_real = np.zeros((Np, Ny), dtype=float)\n",
        "#v_grad_omega_hat = np.zeros((Ny, Np), dtype=complex)\n",
        "#u_storage_init = np.empty((1, Nx, Nx), dtype=float)\n",
        "#v_storage_init = np.empty((1, Nx, Nx), dtype=float)\n",
        "#omega_storage_init = np.empty((1, Nx, Nx), dtype=float)\n",
        "'''\n",
        "a = [1. / 6., 1. / 3., 1. / 3., 1. / 6.]\n",
        "b = [0.5, 0.5, 1.]\n",
        "'''\n",
        "\n",
        "# MAIN LOOP:\n",
        "#t = 0\n",
        "step = 1                                                  #Substituit isso por n\n",
        "pbar = tqdm(total=int(n_steps))\n",
        "\n",
        "# Initial vorticity field\n",
        "omega_hat_t0 = IC_2D(Nx, Ny, Np, u, v, u_hat, v_hat, IC_type, omega, omega_hat, X, Y)\n",
        "omega = ifftn_mpi(omega_hat_t0, omega)\n",
        "\n",
        "# Plot the initial state of the simulation:\n",
        "# Obs.: np.sqrt(u**2 + v**2) is the amplitude of the velocity and ifftn_mpi(omega_hat, omega) is the curl\n",
        "plot(0, u, v, np.sqrt(u**2 + v**2), ifftn_mpi(omega_hat, omega), 0, t_f, step, n_steps)\n",
        "\n",
        "for n in range(n_steps + 1):\n",
        "\n",
        "    if n == 0: # Initialize vorticity field (for the simulation)\n",
        "        omega_hat = omega_hat_t0\n",
        "\n",
        "    # Compute velocity in Fourier space\n",
        "    u_hat = -iky_over_K2*omega_hat\n",
        "    v_hat = ikx_over_K2*omega_hat\n",
        "    u = ifftn_mpi(u_hat, u)\n",
        "    v = ifftn_mpi(v_hat, v)\n",
        "\n",
        "    # Compute terms for vorticity equation\n",
        "    omega_kx = ifftn_mpi(1j*Kx * omega_hat, omega_kx)\n",
        "    omega_ky = ifftn_mpi(1j*Ky * omega_hat, omega_ky)\n",
        "    v_grad_omega = (u * omega_kx + v * omega_ky)\n",
        "    v_grad_omega_hat = fftn_mpi(v_grad_omega, v_grad_omega_hat)*dealias\n",
        "    visc_term_complex = -viscosity * K2 * omega_hat\n",
        "\n",
        "    #rhs_hat = visc_term_complex - u_hat * 1j * Kx * omega_hat * dealias - v_hat * 1j * \\\n",
        "    #Ky * omega_hat * dealias\n",
        "    #rhs_hat = visc_term_complex - v_grad_omega_hat\n",
        "    #rhs = ifftn_mpi(rhs_hat, rhs)\n",
        "\n",
        "    # Compute new vorticity field\n",
        "    omega_hat_new = 1/(1/dt - 0.5*viscosity*LapHat)*(\n",
        "                (1/dt + 0.5*viscosity*LapHat)*omega_hat - v_grad_omega_hat);\n",
        "    omega_hat = omega_hat_new.copy()\n",
        "\n",
        "    '''\n",
        "    if n%100==0:\n",
        "        omega = ifftn_mpi(omega_hat,omega)\n",
        "        plt.imshow(abs(omega),cmap='jet')\n",
        "        #plt.imshow(sqrt((u ** 2) + (v ** 2)), cmap='jet', animated=True)\n",
        "        plt.show()\n",
        "    '''\n",
        "    '''\n",
        "    omega_hat1 = omega_hat0 = omega_hat\n",
        "    for rk in range(4):\n",
        "        if rk < 3: omega_hat = omega_hat0 + b[rk] * dt * rhs_hat\n",
        "        omega_hat1 += a[rk] * dt * rhs_hat\n",
        "    omega_hat = omega_hat1\n",
        "    '''\n",
        "\n",
        "    # Plot/Save the vorticity field at intervals\n",
        "    if step%150==0:\n",
        "        plot(0, u, v, np.sqrt(u**2 + v**2), ifftn_mpi(omega_hat, omega), n*dt, t_f, step, n_steps)\n",
        "\n",
        "    #t = t+dt\n",
        "    step += 1\n",
        "\n",
        "    pbar.update(1)\n",
        "\n",
        "pbar.close()\n",
        "\n",
        "#print('Finished! Time:', time.time()-start_time)\n"
      ],
      "metadata": {
        "colab": {
          "base_uri": "https://localhost:8080/",
          "height": 391
        },
        "id": "H-JzeAabf0mZ",
        "outputId": "969c3abb-957e-4dd0-9389-23c03428587d"
      },
      "execution_count": 54,
      "outputs": [
        {
          "output_type": "stream",
          "name": "stdout",
          "text": [
            "num_processes 1 rank 0\n"
          ]
        },
        {
          "output_type": "stream",
          "name": "stderr",
          "text": [
            "\r  0%|          | 0/60000 [00:00<?, ?it/s]"
          ]
        },
        {
          "output_type": "error",
          "ename": "NameError",
          "evalue": "name 'Np' is not defined",
          "traceback": [
            "\u001b[0;31m---------------------------------------------------------------------------\u001b[0m",
            "\u001b[0;31mNameError\u001b[0m                                 Traceback (most recent call last)",
            "\u001b[0;32m<ipython-input-54-8616474c4910>\u001b[0m in \u001b[0;36m<cell line: 178>\u001b[0;34m()\u001b[0m\n\u001b[1;32m    176\u001b[0m \u001b[0;34m\u001b[0m\u001b[0m\n\u001b[1;32m    177\u001b[0m \u001b[0;31m# Initial vorticity field\u001b[0m\u001b[0;34m\u001b[0m\u001b[0;34m\u001b[0m\u001b[0m\n\u001b[0;32m--> 178\u001b[0;31m \u001b[0momega_hat_t0\u001b[0m \u001b[0;34m=\u001b[0m \u001b[0mIC_2D\u001b[0m\u001b[0;34m(\u001b[0m\u001b[0mNx\u001b[0m\u001b[0;34m,\u001b[0m \u001b[0mNy\u001b[0m\u001b[0;34m,\u001b[0m \u001b[0mNp\u001b[0m\u001b[0;34m,\u001b[0m \u001b[0mu\u001b[0m\u001b[0;34m,\u001b[0m \u001b[0mv\u001b[0m\u001b[0;34m,\u001b[0m \u001b[0mu_hat\u001b[0m\u001b[0;34m,\u001b[0m \u001b[0mv_hat\u001b[0m\u001b[0;34m,\u001b[0m \u001b[0mIC_type\u001b[0m\u001b[0;34m,\u001b[0m \u001b[0momega\u001b[0m\u001b[0;34m,\u001b[0m \u001b[0momega_hat\u001b[0m\u001b[0;34m,\u001b[0m \u001b[0mX\u001b[0m\u001b[0;34m,\u001b[0m \u001b[0mY\u001b[0m\u001b[0;34m)\u001b[0m\u001b[0;34m\u001b[0m\u001b[0;34m\u001b[0m\u001b[0m\n\u001b[0m\u001b[1;32m    179\u001b[0m \u001b[0momega\u001b[0m \u001b[0;34m=\u001b[0m \u001b[0mifftn_mpi\u001b[0m\u001b[0;34m(\u001b[0m\u001b[0momega_hat_t0\u001b[0m\u001b[0;34m,\u001b[0m \u001b[0momega\u001b[0m\u001b[0;34m)\u001b[0m\u001b[0;34m\u001b[0m\u001b[0;34m\u001b[0m\u001b[0m\n\u001b[1;32m    180\u001b[0m \u001b[0;34m\u001b[0m\u001b[0m\n",
            "\u001b[0;32m/content/PyTurbulence/Spectral_DNS/initial_conditions.py\u001b[0m in \u001b[0;36mIC_2D\u001b[0;34m(Nx, Ny, Np, u, v, u_hat, v_hat, IC_type, omega, omega_hat, X, Y)\u001b[0m\n\u001b[1;32m     41\u001b[0m         \u001b[0;31m# u = u / np.max(u)\u001b[0m\u001b[0;34m\u001b[0m\u001b[0;34m\u001b[0m\u001b[0m\n\u001b[1;32m     42\u001b[0m         \u001b[0;31m# v = v / np.max(v)\u001b[0m\u001b[0;34m\u001b[0m\u001b[0;34m\u001b[0m\u001b[0m\n\u001b[0;32m---> 43\u001b[0;31m         \u001b[0mu_hat\u001b[0m \u001b[0;34m=\u001b[0m \u001b[0mfftn_mpi\u001b[0m\u001b[0;34m(\u001b[0m\u001b[0mu\u001b[0m\u001b[0;34m,\u001b[0m \u001b[0mu_hat\u001b[0m\u001b[0;34m)\u001b[0m\u001b[0;34m\u001b[0m\u001b[0;34m\u001b[0m\u001b[0m\n\u001b[0m\u001b[1;32m     44\u001b[0m         \u001b[0mv_hat\u001b[0m \u001b[0;34m=\u001b[0m \u001b[0mfftn_mpi\u001b[0m\u001b[0;34m(\u001b[0m\u001b[0mv\u001b[0m\u001b[0;34m,\u001b[0m \u001b[0mv_hat\u001b[0m\u001b[0;34m)\u001b[0m\u001b[0;34m\u001b[0m\u001b[0;34m\u001b[0m\u001b[0m\n\u001b[1;32m     45\u001b[0m         \u001b[0momega_hat\u001b[0m \u001b[0;34m=\u001b[0m \u001b[0;36m1j\u001b[0m \u001b[0;34m*\u001b[0m \u001b[0;34m(\u001b[0m\u001b[0mKx\u001b[0m\u001b[0;34m*\u001b[0m\u001b[0mv_hat\u001b[0m \u001b[0;34m-\u001b[0m \u001b[0mKy\u001b[0m\u001b[0;34m*\u001b[0m\u001b[0mu_hat\u001b[0m\u001b[0;34m)\u001b[0m\u001b[0;34m\u001b[0m\u001b[0;34m\u001b[0m\u001b[0m\n",
            "\u001b[0;32m/content/PyTurbulence/Spectral_DNS/initial_conditions.py\u001b[0m in \u001b[0;36mfftn_mpi\u001b[0;34m(u, fu)\u001b[0m\n\u001b[1;32m     16\u001b[0m \u001b[0;32mdef\u001b[0m \u001b[0mfftn_mpi\u001b[0m\u001b[0;34m(\u001b[0m\u001b[0mu\u001b[0m\u001b[0;34m,\u001b[0m \u001b[0mfu\u001b[0m\u001b[0;34m)\u001b[0m\u001b[0;34m:\u001b[0m\u001b[0;34m\u001b[0m\u001b[0;34m\u001b[0m\u001b[0m\n\u001b[1;32m     17\u001b[0m \u001b[0;34m\u001b[0m\u001b[0m\n\u001b[0;32m---> 18\u001b[0;31m     \u001b[0mUc_hatT\u001b[0m \u001b[0;34m=\u001b[0m \u001b[0mnp\u001b[0m\u001b[0;34m.\u001b[0m\u001b[0mempty\u001b[0m\u001b[0;34m(\u001b[0m\u001b[0;34m(\u001b[0m\u001b[0mNp\u001b[0m\u001b[0;34m,\u001b[0m \u001b[0mN\u001b[0m\u001b[0;34m)\u001b[0m\u001b[0;34m,\u001b[0m \u001b[0mdtype\u001b[0m\u001b[0;34m=\u001b[0m\u001b[0mcomplex\u001b[0m\u001b[0;34m)\u001b[0m\u001b[0;34m\u001b[0m\u001b[0;34m\u001b[0m\u001b[0m\n\u001b[0m\u001b[1;32m     19\u001b[0m     \u001b[0mU_mpi\u001b[0m \u001b[0;34m=\u001b[0m \u001b[0mnp\u001b[0m\u001b[0;34m.\u001b[0m\u001b[0mempty\u001b[0m\u001b[0;34m(\u001b[0m\u001b[0;34m(\u001b[0m\u001b[0mnum_processes\u001b[0m\u001b[0;34m,\u001b[0m \u001b[0mNp\u001b[0m\u001b[0;34m,\u001b[0m \u001b[0mNp\u001b[0m\u001b[0;34m)\u001b[0m\u001b[0;34m,\u001b[0m \u001b[0mdtype\u001b[0m\u001b[0;34m=\u001b[0m\u001b[0mcomplex\u001b[0m\u001b[0;34m)\u001b[0m\u001b[0;34m\u001b[0m\u001b[0;34m\u001b[0m\u001b[0m\n\u001b[1;32m     20\u001b[0m \u001b[0;34m\u001b[0m\u001b[0m\n",
            "\u001b[0;31mNameError\u001b[0m: name 'Np' is not defined"
          ]
        }
      ]
    },
    {
      "cell_type": "markdown",
      "source": [
        "# **Backup:**"
      ],
      "metadata": {
        "id": "MOWJPHzsXGll"
      }
    },
    {
      "cell_type": "code",
      "source": [],
      "metadata": {
        "id": "0IRrIt0rZbWK"
      },
      "execution_count": null,
      "outputs": []
    }
  ]
}
